{
 "cells": [
  {
   "cell_type": "code",
   "execution_count": 1,
   "metadata": {},
   "outputs": [],
   "source": [
    "from pitchtypes import AbstractBase, Spelled, Enharmonic, LogFreq\n",
    "from math import log"
   ]
  },
  {
   "cell_type": "markdown",
   "metadata": {},
   "source": [
    "## Basic Pitch Types"
   ]
  },
  {
   "cell_type": "markdown",
   "metadata": {},
   "source": [
    "Both _SpelledPitch_ and _EnharmonicPitch_ can be initialised from commonly used pitch notation. However, _SpelledPitch_ will (you guessed it) retain the spelling while _EnharmonicPitch_ converts to the corresponding enharmonically equivalent pitch (internally stored as the corresponding integer in MIDI representation). When printing 'black keys', _EnharmonicPitch_ will need to add an accidental, which by default is a sharp (the 'flat' version can be obtained by explicitly calling the _name_ function with the corresponding argument). _SpelledPitch_ can be converted to _EnharmonicPitch_ but not the other way around."
   ]
  },
  {
   "cell_type": "code",
   "execution_count": 2,
   "metadata": {},
   "outputs": [
    {
     "name": "stdout",
     "output_type": "stream",
     "text": [
      "Spelled('F##'):\t\tF##\n",
      "Enharmonic('F##'):\tG\t[G/G]\n",
      "F## --> G\n",
      "\n",
      "Spelled('Bbb'):\t\tBbb\n",
      "Enharmonic('Bbb'):\tA\t[A/A]\n",
      "Bbb --> A\n",
      "\n",
      "Spelled('C#'):\t\tC#\n",
      "Enharmonic('C#'):\tC#\t[C#/Db]\n",
      "C# --> C#\n",
      "\n",
      "Spelled('Db'):\t\tDb\n",
      "Enharmonic('Db'):\tC#\t[C#/Db]\n",
      "Db --> C#\n",
      "\n"
     ]
    }
   ],
   "source": [
    "for pitch in [\"F##\", \"Bbb\", \"C#\", \"Db\"]:\n",
    "    print(f\"Spelled('{pitch}'):\\t\\t{Spelled(pitch)}\")\n",
    "    p = Enharmonic(pitch)\n",
    "    print(f\"Enharmonic('{pitch}'):\\t{p}\\t[{p.name(sharp_flat='sharp')}/{p.name(sharp_flat='flat')}]\")\n",
    "    print(f\"{Spelled(pitch)} --> {Enharmonic(Spelled(pitch))}\")\n",
    "    # print(f\"{Enharmonic(pitch)} --> {Spelled(Enharmonic(pitch))}\")  # NotImplementedError\n",
    "    print()"
   ]
  },
  {
   "cell_type": "markdown",
   "metadata": {},
   "source": [
    "### Pitch versus Pitch Classe"
   ]
  },
  {
   "cell_type": "markdown",
   "metadata": {},
   "source": [
    "In fact, the example above is using pitch _classes_, that is the octave is ignored. If you want actual pitches, you will need to specify the octave."
   ]
  },
  {
   "cell_type": "code",
   "execution_count": 3,
   "metadata": {},
   "outputs": [
    {
     "name": "stdout",
     "output_type": "stream",
     "text": [
      "Dbb1\tC1\t(MIDI: 24 <--> C1)\n",
      "C2\tC2\t(MIDI: 36 <--> C2)\n",
      "B#3\tC4\t(MIDI: 60 <--> C4)\n",
      "C4\tC4\t(MIDI: 60 <--> C4)\n"
     ]
    }
   ],
   "source": [
    "for pitch in [\"Dbb1\", \"C2\", \"B#3\", \"C4\"]:\n",
    "    midi = int(Enharmonic(pitch))\n",
    "    print(f\"{Spelled(pitch)}\\t{Enharmonic(pitch)}\\t(MIDI: {midi} <--> {Enharmonic(midi, is_pitch=True, is_class=False)})\")"
   ]
  },
  {
   "cell_type": "markdown",
   "metadata": {},
   "source": [
    "As you can see, _EnharmonicPitch_ can also be converted back and forth from/to the corresponding MIDI integer representation (when providing an integer you have to assist by specifying how it should be interpreted). And if you have a pitch (or interval) object, you can easily convert it to the corresponding pitch (or interval) _class_:"
   ]
  },
  {
   "cell_type": "code",
   "execution_count": 4,
   "metadata": {},
   "outputs": [
    {
     "name": "stdout",
     "output_type": "stream",
     "text": [
      "C4 --> C\n",
      "+17 --> +5\n"
     ]
    }
   ],
   "source": [
    "p = Enharmonic(\"C4\")\n",
    "i = Enharmonic(17, is_pitch=False, is_class=False)\n",
    "pc = p.to_class()\n",
    "ic = i.to_class()\n",
    "print(f\"{p} --> {pc}\")\n",
    "print(f\"{i} --> {ic}\")"
   ]
  },
  {
   "cell_type": "markdown",
   "metadata": {},
   "source": [
    "### Frequencies"
   ]
  },
  {
   "cell_type": "markdown",
   "metadata": {},
   "source": [
    "If you are interested in the frequency corresponding to a specific pitch...well, you should think twice what that means, but here are some ways to deal with frequencies.\n",
    "\n",
    "We use the _LogFreqPitch_ type to represent frequencies. As the name suggests, it corresponds to the logarithm of the frequency (in Hertz) and is internally represented as a float:"
   ]
  },
  {
   "cell_type": "code",
   "execution_count": 5,
   "metadata": {},
   "outputs": [
    {
     "name": "stdout",
     "output_type": "stream",
     "text": [
      "440.1Hz\n",
      "440.1Hz\n",
      "6.0870019738170456 == 6.0870019738170456\n"
     ]
    }
   ],
   "source": [
    "print(LogFreq(log(440.1)))\n",
    "print(LogFreq(440.1, is_freq=True))\n",
    "print(f\"{float(LogFreq(log(440.1)))} == {log(440.1)}\")"
   ]
  },
  {
   "cell_type": "markdown",
   "metadata": {},
   "source": [
    "For other pitch types, it is not obvious how they relate to frequency, because this generally depends on the specific tuning being used. To still be as user-friendly as possible, we assume that people using _EnharmonicPitch_ will generally use twelve-tone equal temperament, so we provide a default conversion to frequency:"
   ]
  },
  {
   "cell_type": "code",
   "execution_count": 6,
   "metadata": {},
   "outputs": [
    {
     "name": "stdout",
     "output_type": "stream",
     "text": [
      "440.0\n",
      "440.Hz\n"
     ]
    }
   ],
   "source": [
    "print(Enharmonic(\"A4\").freq())\n",
    "print(LogFreq(Enharmonic(\"A4\")))"
   ]
  },
  {
   "cell_type": "markdown",
   "metadata": {},
   "source": [
    "In contrast, _SpelledPitch_ pitch contains additional information that may be used to adjust the frequency in an appropriate way, depending on the tuning and/or the musical context. So we do not provide a default conversion and the following would result in an _NotImplementedError_:"
   ]
  },
  {
   "cell_type": "code",
   "execution_count": 7,
   "metadata": {},
   "outputs": [],
   "source": [
    "# LogFreq(Spelled(\"A4\"))  # NotImplementedError"
   ]
  },
  {
   "cell_type": "markdown",
   "metadata": {},
   "source": [
    "You can still perform the conversion explicitly, in which case we trust you that you know what you are doing:"
   ]
  },
  {
   "cell_type": "code",
   "execution_count": 8,
   "metadata": {},
   "outputs": [
    {
     "data": {
      "text/plain": [
       "440.Hz"
      ]
     },
     "execution_count": 8,
     "metadata": {},
     "output_type": "execute_result"
    }
   ],
   "source": [
    "LogFreq(Enharmonic(Spelled(\"A4\")))"
   ]
  },
  {
   "cell_type": "markdown",
   "metadata": {},
   "source": [
    "## Intervals and Arithmetics"
   ]
  },
  {
   "cell_type": "markdown",
   "metadata": {},
   "source": [
    "ToDo..."
   ]
  },
  {
   "cell_type": "code",
   "execution_count": 9,
   "metadata": {},
   "outputs": [
    {
     "name": "stdout",
     "output_type": "stream",
     "text": [
      "Gb5 - C#4 = +dd5:1\n",
      "Gb5 + +dd5:1 = Dbbb6\n",
      "Gb5 - +dd5:1 = C#4\n",
      "+dd5:1 - +dd5:1 = +P1:0\n",
      "+dd5:1 + +dd5:1 = +ddd2:2\n"
     ]
    }
   ],
   "source": [
    "p1 = Spelled(\"C#4\")\n",
    "p2 = Spelled(\"Gb5\")\n",
    "i = p2 - p1\n",
    "print(f\"{p2} - {p1} = {i}\")\n",
    "print(f\"{p2} + {i} = {p2 + i}\")\n",
    "print(f\"{p2} - {i} = {p2 - i}\")\n",
    "print(f\"{i} - {i} = {i - i}\")\n",
    "print(f\"{i} + {i} = {i + i}\")\n",
    "# p1 + p2                                   # TypeError (cannot add pitches)\n",
    "# Spelled(\"G\") - Spelled(\"G4\")    # TypeError (cannot mix pitches with pitch classes)\n",
    "# Spelled(\"G\") - Enharmonic(\"C\")  # TypeError (cannot mix different pitch types)"
   ]
  },
  {
   "cell_type": "markdown",
   "metadata": {},
   "source": [
    "## Converters"
   ]
  },
  {
   "cell_type": "markdown",
   "metadata": {},
   "source": [
    "When implementing new pitch types, you can register converters to allow (implicit) conversion to and from existing pitch types."
   ]
  },
  {
   "cell_type": "code",
   "execution_count": 10,
   "metadata": {},
   "outputs": [
    {
     "name": "stdout",
     "output_type": "stream",
     "text": [
      "TypeBPitch(foo)\n",
      "TypeCPitch(bar)\n"
     ]
    }
   ],
   "source": [
    "class TypeA(AbstractBase): pass\n",
    "class TypeB(AbstractBase): pass\n",
    "class TypeC(AbstractBase): pass\n",
    "\n",
    "AbstractBase.register_converter(from_type=TypeA, \n",
    "                         to_type=TypeB, \n",
    "                         conv_func=lambda pitch_a: TypeB(pitch_a._value, pitch_a.is_pitch(), pitch_a.is_class()))\n",
    "AbstractBase.register_converter(from_type=TypeB, \n",
    "                         to_type=TypeC, \n",
    "                         conv_func=lambda pitch_b: TypeC(pitch_b._value, pitch_b.is_pitch(), pitch_b.is_class()))\n",
    "\n",
    "print(TypeA(\"foo\", True, False).convert_to(TypeB))\n",
    "print(TypeB(\"bar\", True, False).convert_to(TypeC))"
   ]
  },
  {
   "cell_type": "markdown",
   "metadata": {},
   "source": [
    "### Implicit Converters"
   ]
  },
  {
   "cell_type": "code",
   "execution_count": 11,
   "metadata": {},
   "outputs": [
    {
     "name": "stdout",
     "output_type": "stream",
     "text": [
      "TypeCPitch(baz)\n"
     ]
    }
   ],
   "source": [
    "print(TypeA(\"baz\", True, False).convert_to(TypeC))  # What?!"
   ]
  },
  {
   "cell_type": "markdown",
   "metadata": {},
   "source": [
    "We did not provide a converter from TypeA to TypeC, instead, an _implicit_ converter was automatically added by chaining the other two: TypeA --> TypeB --> TypeC. This can be supressed as follows (here for the inverse conversion):"
   ]
  },
  {
   "cell_type": "code",
   "execution_count": 12,
   "metadata": {},
   "outputs": [
    {
     "name": "stdout",
     "output_type": "stream",
     "text": [
      "TypeBPitch(foo)\n",
      "TypeAPitch(bar)\n"
     ]
    }
   ],
   "source": [
    "AbstractBase.register_converter(from_type=TypeC,\n",
    "                         to_type=TypeB, \n",
    "                         conv_func=lambda pitch_c: TypeB(pitch_c._value, pitch_c.is_pitch(), pitch_c.is_class()))\n",
    "AbstractBase.register_converter(from_type=TypeB,\n",
    "                         to_type=TypeA, \n",
    "                         conv_func=lambda pitch_b: TypeA(pitch_b._value, pitch_b.is_pitch(), pitch_b.is_class()),\n",
    "                         create_implicit_converters=False)  # Here, the implicit converter would have been created!\n",
    "print(TypeC(\"foo\", True, False).convert_to(TypeB))\n",
    "print(TypeB(\"bar\", True, False).convert_to(TypeA))\n",
    "# print(TypeC(\"baz\", True, False).convert_to(TypeA))  # NotImplementedError"
   ]
  },
  {
   "cell_type": "markdown",
   "metadata": {},
   "source": [
    "You can look at all registered converters and see how the implicit converter from above is made up from two separate conversion steps arranged into a pipeline. In fact, there are only the two predefined converters we already know (_Spelled_ --> _Enharmonic_, _Enharmonic_ --> _LogFreq_) and those we just defined (including the implicitly defined one):"
   ]
  },
  {
   "cell_type": "code",
   "execution_count": 13,
   "metadata": {},
   "outputs": [
    {
     "name": "stdout",
     "output_type": "stream",
     "text": [
      "from: <class 'pitchtypes.datatypes.Spelled'>\n",
      "    to: <class 'pitchtypes.datatypes.Enharmonic'>:\t conversion pipeline: [<function Enharmonic.convert_from_Spelled at 0x10dbe6040>]\n",
      "from: <class 'pitchtypes.datatypes.Enharmonic'>\n",
      "    to: <class 'pitchtypes.datatypes.LogFreq'>:\t conversion pipeline: [<function LogFreq.convert_from_midi_pitch at 0x10dbe65e0>]\n",
      "from: <class '__main__.TypeA'>\n",
      "    to: <class '__main__.TypeB'>:\t conversion pipeline: [<function <lambda> at 0x10dbe6dc0>]\n",
      "    to: <class '__main__.TypeC'>:\t conversion pipeline: [<function <lambda> at 0x10dbe6dc0>, <function <lambda> at 0x10dbe6f70>]\n",
      "from: <class '__main__.TypeB'>\n",
      "    to: <class '__main__.TypeC'>:\t conversion pipeline: [<function <lambda> at 0x10dbe6f70>]\n",
      "    to: <class '__main__.TypeA'>:\t conversion pipeline: [<function <lambda> at 0x10dbe6e50>]\n",
      "from: <class '__main__.TypeC'>\n",
      "    to: <class '__main__.TypeB'>:\t conversion pipeline: [<function <lambda> at 0x10dbe6af0>]\n"
     ]
    }
   ],
   "source": [
    "for from_type, d in AbstractBase._converters.items():\n",
    "    print(f\"from: {from_type}\")\n",
    "    for to_type, f in d.items():\n",
    "        print(f\"    to: {to_type}:\\t conversion pipeline: {f}\")"
   ]
  }
 ],
 "metadata": {
  "kernelspec": {
   "display_name": "Python 3",
   "language": "python",
   "name": "python3"
  },
  "language_info": {
   "codemirror_mode": {
    "name": "ipython",
    "version": 3
   },
   "file_extension": ".py",
   "mimetype": "text/x-python",
   "name": "python",
   "nbconvert_exporter": "python",
   "pygments_lexer": "ipython3",
   "version": "3.8.2"
  }
 },
 "nbformat": 4,
 "nbformat_minor": 4
}

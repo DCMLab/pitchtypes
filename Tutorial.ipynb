{
 "cells": [
  {
   "cell_type": "code",
   "execution_count": 1,
   "metadata": {},
   "outputs": [],
   "source": [
    "from pitchtypes import Pitch, SpelledPitch, EnharmonicPitch, LogFreqPitch\n",
    "from math import log"
   ]
  },
  {
   "cell_type": "markdown",
   "metadata": {},
   "source": [
    "## Basic Pitch Types"
   ]
  },
  {
   "cell_type": "markdown",
   "metadata": {},
   "source": [
    "Both _SpelledPitch_ and _EnharmonicPitch_ can be initialised from commonly used pitch notation. However, _SpelledPitch_ will (you guessed it) retain the spelling while _EnharmonicPitch_ converts to the corresponding enharmonically equivalent pitch (internally stored as the corresponding integer in MIDI representation). When printing 'black keys', _EnharmonicPitch_ will need to add an accidental, which by default is a sharp (the 'flat' version can be obtained by explicitly calling the _name_ function with the corresponding argument). _SpelledPitch_ can be converted to _EnharmonicPitch_ but not the other way around."
   ]
  },
  {
   "cell_type": "code",
   "execution_count": 2,
   "metadata": {},
   "outputs": [
    {
     "name": "stdout",
     "output_type": "stream",
     "text": [
      "SpelledPitch('F##'):\tF##\n",
      "EnharmonicPitch('F##'):\tG\t[G/G]\n",
      "F## --> G\n",
      "\n",
      "SpelledPitch('Bbb'):\tBbb\n",
      "EnharmonicPitch('Bbb'):\tA\t[A/A]\n",
      "Bbb --> A\n",
      "\n",
      "SpelledPitch('C#'):\tC#\n",
      "EnharmonicPitch('C#'):\tC#\t[C#/Db]\n",
      "C# --> C#\n",
      "\n",
      "SpelledPitch('Db'):\tDb\n",
      "EnharmonicPitch('Db'):\tC#\t[C#/Db]\n",
      "Db --> C#\n",
      "\n"
     ]
    }
   ],
   "source": [
    "for pitch in [\"F##\", \"Bbb\", \"C#\", \"Db\"]:\n",
    "    print(f\"SpelledPitch('{pitch}'):\\t{SpelledPitch(pitch)}\")\n",
    "    p = EnharmonicPitch(pitch)\n",
    "    print(f\"EnharmonicPitch('{pitch}'):\\t{p}\\t[{p.name(sharp_flat='sharp')}/{p.name(sharp_flat='flat')}]\")\n",
    "    print(f\"{SpelledPitch(pitch)} --> {EnharmonicPitch(SpelledPitch(pitch))}\")\n",
    "    # print(f\"{EnharmonicPitch(pitch)} --> {SpelledPitch(EnharmonicPitch(pitch))}\")  # NotImplementedError\n",
    "    print()"
   ]
  },
  {
   "cell_type": "markdown",
   "metadata": {},
   "source": [
    "### Pitch versus Pitch Classe"
   ]
  },
  {
   "cell_type": "markdown",
   "metadata": {},
   "source": [
    "In fact, the example above is using pitch _classes_, that is the octave is ignored. If you want actual pitches, you will need to specify the octave."
   ]
  },
  {
   "cell_type": "code",
   "execution_count": 3,
   "metadata": {},
   "outputs": [
    {
     "name": "stdout",
     "output_type": "stream",
     "text": [
      "Dbb1\tC1\t(MIDI: 24 <--> C1)\n",
      "C2\tC2\t(MIDI: 36 <--> C2)\n",
      "B#3\tC4\t(MIDI: 60 <--> C4)\n",
      "C4\tC4\t(MIDI: 60 <--> C4)\n"
     ]
    }
   ],
   "source": [
    "for pitch in [\"Dbb1\", \"C2\", \"B#3\", \"C4\"]:\n",
    "    midi = int(EnharmonicPitch(pitch))\n",
    "    print(f\"{SpelledPitch(pitch)}\\t{EnharmonicPitch(pitch)}\\t(MIDI: {midi} <--> {EnharmonicPitch(midi)})\")"
   ]
  },
  {
   "cell_type": "markdown",
   "metadata": {},
   "source": [
    "As you can see, _EnharmonicPitch_ can also be converted back and forth from/to the corresponding MIDI integer representation. And if you have a pitch object, you can easily convert it to the corresponding pitch _class_:"
   ]
  },
  {
   "cell_type": "code",
   "execution_count": 4,
   "metadata": {},
   "outputs": [
    {
     "name": "stdout",
     "output_type": "stream",
     "text": [
      "C4 --> C\n"
     ]
    }
   ],
   "source": [
    "p = EnharmonicPitch(\"C4\")\n",
    "pc = p.to_pitch_class()\n",
    "print(f\"{p} --> {pc}\")"
   ]
  },
  {
   "cell_type": "markdown",
   "metadata": {},
   "source": [
    "### Frequencies"
   ]
  },
  {
   "cell_type": "markdown",
   "metadata": {},
   "source": [
    "If you are interested in the frequency corresponding to a specific pitch...well, you should think twice what that means, but here are some ways to deal with frequencies.\n",
    "\n",
    "We use the _LogFreqPitch_ type to represent frequencies. As the name suggests, it corresponds to the logarithm of the frequency (in Hertz) and is internally represented as a float:"
   ]
  },
  {
   "cell_type": "code",
   "execution_count": 5,
   "metadata": {},
   "outputs": [
    {
     "name": "stdout",
     "output_type": "stream",
     "text": [
      "440.1Hz\n",
      "440.1Hz\n",
      "6.0870019738170456 == 6.0870019738170456\n"
     ]
    }
   ],
   "source": [
    "print(LogFreqPitch(log(440.1)))\n",
    "print(LogFreqPitch(440.1, is_freq=True))\n",
    "print(f\"{float(LogFreqPitch(log(440.1)))} == {log(440.1)}\")"
   ]
  },
  {
   "cell_type": "markdown",
   "metadata": {},
   "source": [
    "For other pitch types, it is not obvious how they relate to frequency, because this generally depends on the specific tuning being used. To still be as user-friendly as possible, we assume that people using _EnharmonicPitch_ will generally use twelve-tone equal temperament, so we provide a default conversion to frequency:"
   ]
  },
  {
   "cell_type": "code",
   "execution_count": 6,
   "metadata": {},
   "outputs": [
    {
     "name": "stdout",
     "output_type": "stream",
     "text": [
      "440.0\n",
      "440.Hz\n"
     ]
    }
   ],
   "source": [
    "print(EnharmonicPitch(\"A4\").freq())\n",
    "print(LogFreqPitch(EnharmonicPitch(\"A4\")))"
   ]
  },
  {
   "cell_type": "markdown",
   "metadata": {},
   "source": [
    "In contrast, _SpelledPitch_ pitch contains additional information that may be used to adjust the frequency in an appropriate way, depending on the tuning and/or the musical context. So we do not provide a default conversion and the following would result in an _NotImplementedError_:"
   ]
  },
  {
   "cell_type": "code",
   "execution_count": 7,
   "metadata": {},
   "outputs": [],
   "source": [
    "# LogFreqPitch(SpelledPitch(\"A4\"))  # NotImplementedError"
   ]
  },
  {
   "cell_type": "markdown",
   "metadata": {},
   "source": [
    "You can still perform the conversion explicitly, in which case we trust you that you know what you are doing:"
   ]
  },
  {
   "cell_type": "code",
   "execution_count": 8,
   "metadata": {},
   "outputs": [
    {
     "data": {
      "text/plain": [
       "440.Hz"
      ]
     },
     "execution_count": 8,
     "metadata": {},
     "output_type": "execute_result"
    }
   ],
   "source": [
    "LogFreqPitch(EnharmonicPitch(SpelledPitch(\"A4\")))"
   ]
  },
  {
   "cell_type": "markdown",
   "metadata": {},
   "source": [
    "## Intervals and Arithmetic"
   ]
  },
  {
   "cell_type": "markdown",
   "metadata": {},
   "source": [
    "ToDo..."
   ]
  },
  {
   "cell_type": "code",
   "execution_count": 9,
   "metadata": {},
   "outputs": [
    {
     "name": "stdout",
     "output_type": "stream",
     "text": [
      "Gb5 - C#4 = dd5+1\n",
      "Gb5 + dd5+1 = Dbbb6\n",
      "Gb5 - dd5+1 = C#4\n",
      "dd5+1 - dd5+1 = P1+0\n",
      "dd5+1 + dd5+1 = dddd2+2\n"
     ]
    }
   ],
   "source": [
    "p1 = SpelledPitch(\"C#4\")\n",
    "p2 = SpelledPitch(\"Gb5\")\n",
    "i = p2 - p1\n",
    "print(f\"{p2} - {p1} = {i}\")\n",
    "print(f\"{p2} + {i} = {p2 + i}\")\n",
    "print(f\"{p2} - {i} = {p2 - i}\")\n",
    "print(f\"{i} - {i} = {i - i}\")\n",
    "print(f\"{i} + {i} = {i + i}\")\n",
    "# p1 + p2                                   # TypeError (cannot add pitches)\n",
    "# SpelledPitch(\"G\") - SpelledPitch(\"G4\")    # TypeError (cannot mix pitches with pitch classes)\n",
    "# SpelledPitch(\"G\") - EnharmonicPitch(\"C\")  # TypeError (cannot mix different pitch types)"
   ]
  },
  {
   "cell_type": "markdown",
   "metadata": {},
   "source": [
    "## Converters"
   ]
  },
  {
   "cell_type": "markdown",
   "metadata": {},
   "source": [
    "When implementing new pitch types, you can register converters to allow (implicit) conversion to and from existing pitch types."
   ]
  },
  {
   "cell_type": "code",
   "execution_count": 10,
   "metadata": {},
   "outputs": [
    {
     "name": "stdout",
     "output_type": "stream",
     "text": [
      "PitchB(foo)\n",
      "PitchC(bar)\n"
     ]
    }
   ],
   "source": [
    "class PitchA(Pitch): pass\n",
    "class PitchB(Pitch): pass\n",
    "class PitchC(Pitch): pass\n",
    "\n",
    "Pitch.register_converter(from_type=PitchA, \n",
    "                         to_type=PitchB, \n",
    "                         conv_func=lambda pitch_a: PitchB(pitch_a._value))\n",
    "Pitch.register_converter(from_type=PitchB, \n",
    "                         to_type=PitchC, \n",
    "                         conv_func=lambda pitch_b: PitchC(pitch_b._value))\n",
    "\n",
    "print(PitchA(\"foo\").convert_to(PitchB))\n",
    "print(PitchB(\"bar\").convert_to(PitchC))"
   ]
  },
  {
   "cell_type": "markdown",
   "metadata": {},
   "source": [
    "### Implicit Converters"
   ]
  },
  {
   "cell_type": "code",
   "execution_count": 11,
   "metadata": {},
   "outputs": [
    {
     "name": "stdout",
     "output_type": "stream",
     "text": [
      "PitchC(baz)\n"
     ]
    }
   ],
   "source": [
    "print(PitchA(\"baz\").convert_to(PitchC))  # What?!"
   ]
  },
  {
   "cell_type": "markdown",
   "metadata": {},
   "source": [
    "We did not provide a converter from PitchA to PitchC, instead, an _implicit_ converter was automatically added by chaining the other two: PitchA --> PitchB --> PitchC. This can be supressed as follows (here for the inverse conversion):"
   ]
  },
  {
   "cell_type": "code",
   "execution_count": 12,
   "metadata": {},
   "outputs": [
    {
     "name": "stdout",
     "output_type": "stream",
     "text": [
      "PitchB(foo)\n",
      "PitchA(bar)\n"
     ]
    }
   ],
   "source": [
    "Pitch.register_converter(from_type=PitchC,\n",
    "                         to_type=PitchB, \n",
    "                         conv_func=lambda pitch_c: PitchB(pitch_c._value))\n",
    "Pitch.register_converter(from_type=PitchB,\n",
    "                         to_type=PitchA, \n",
    "                         conv_func=lambda pitch_b: PitchA(pitch_b._value),\n",
    "                         create_implicit_converters=False)  # Here, the implicit converter would have been created!\n",
    "print(PitchC(\"foo\").convert_to(PitchB))\n",
    "print(PitchB(\"bar\").convert_to(PitchA))\n",
    "# print(PitchC(\"baz\").convert_to(PitchA))  # NotImplementedError"
   ]
  },
  {
   "cell_type": "markdown",
   "metadata": {},
   "source": [
    "You can look at all registered converters and see how the implicit converter from above is made up from two separate conversion steps arranged into a pipeline. In fact, there are only the two predefined converters we already know (_SpelledPitch_ --> _EnharmonicPitch_, _EnharmonicPitch_ --> _LogFreqPitch_) and those we just defined (including the implicitly defined one):"
   ]
  },
  {
   "cell_type": "code",
   "execution_count": 13,
   "metadata": {},
   "outputs": [
    {
     "name": "stdout",
     "output_type": "stream",
     "text": [
      "from: <class 'pitchtypes.datatypes.SpelledPitch'>\n",
      "    to: <class 'pitchtypes.datatypes.EnharmonicPitch'>:\t conversion pipeline: [<function EnharmonicPitch.convert_from_SpelledPitch at 0x1094d2670>]\n",
      "from: <class 'pitchtypes.datatypes.EnharmonicPitch'>\n",
      "    to: <class 'pitchtypes.datatypes.LogFreqPitch'>:\t conversion pipeline: [<function LogFreqPitch.convert_from_midi_pitch at 0x1094d51f0>]\n",
      "from: <class '__main__.PitchA'>\n",
      "    to: <class '__main__.PitchB'>:\t conversion pipeline: [<function <lambda> at 0x1094d5c10>]\n",
      "    to: <class '__main__.PitchC'>:\t conversion pipeline: [<function <lambda> at 0x1094d5c10>, <function <lambda> at 0x1094d5b80>]\n",
      "from: <class '__main__.PitchB'>\n",
      "    to: <class '__main__.PitchC'>:\t conversion pipeline: [<function <lambda> at 0x1094d5b80>]\n",
      "    to: <class '__main__.PitchA'>:\t conversion pipeline: [<function <lambda> at 0x1094d5940>]\n",
      "from: <class '__main__.PitchC'>\n",
      "    to: <class '__main__.PitchB'>:\t conversion pipeline: [<function <lambda> at 0x1094d58b0>]\n"
     ]
    }
   ],
   "source": [
    "for from_type, d in Pitch._converters.items():\n",
    "    print(f\"from: {from_type}\")\n",
    "    for to_type, f in d.items():\n",
    "        print(f\"    to: {to_type}:\\t conversion pipeline: {f}\")"
   ]
  }
 ],
 "metadata": {
  "kernelspec": {
   "display_name": "Python 3",
   "language": "python",
   "name": "python3"
  },
  "language_info": {
   "codemirror_mode": {
    "name": "ipython",
    "version": 3
   },
   "file_extension": ".py",
   "mimetype": "text/x-python",
   "name": "python",
   "nbconvert_exporter": "python",
   "pygments_lexer": "ipython3",
   "version": "3.8.2"
  }
 },
 "nbformat": 4,
 "nbformat_minor": 4
}

{
 "cells": [
  {
   "cell_type": "code",
   "execution_count": 1,
   "metadata": {},
   "outputs": [],
   "source": [
    "from pitchtypes import AbstractBase, Spelled, Enharmonic, LogFreq, Converters\n",
    "from math import log"
   ]
  },
  {
   "cell_type": "markdown",
   "metadata": {},
   "source": [
    "## Basic Pitch Types"
   ]
  },
  {
   "cell_type": "markdown",
   "metadata": {},
   "source": [
    "Both _SpelledPitch_ and _EnharmonicPitch_ can be initialised from commonly used pitch notation. However, _SpelledPitch_ will (you guessed it) retain the spelling while _EnharmonicPitch_ converts to the corresponding enharmonically equivalent pitch (internally stored as the corresponding integer in MIDI representation). When printing 'black keys', _EnharmonicPitch_ will need to add an accidental, which by default is a sharp (the 'flat' version can be obtained by explicitly calling the _name_ function with the corresponding argument). _SpelledPitch_ can be converted to _EnharmonicPitch_ but not the other way around."
   ]
  },
  {
   "cell_type": "code",
   "execution_count": 2,
   "metadata": {},
   "outputs": [
    {
     "name": "stdout",
     "output_type": "stream",
     "text": [
      "Spelled.PitchClass('F##'):\t\tF##\n",
      "Enharmonic.PitchClass('F##'):\tG\t[G/G]\n",
      "F## --> G\n",
      "\n",
      "Spelled.PitchClass('Bbb'):\t\tBbb\n",
      "Enharmonic.PitchClass('Bbb'):\tA\t[A/A]\n",
      "Bbb --> A\n",
      "\n",
      "Spelled.PitchClass('C#'):\t\tC#\n",
      "Enharmonic.PitchClass('C#'):\tC#\t[C#/Db]\n",
      "C# --> C#\n",
      "\n",
      "Spelled.PitchClass('Db'):\t\tDb\n",
      "Enharmonic.PitchClass('Db'):\tC#\t[C#/Db]\n",
      "Db --> C#\n",
      "\n"
     ]
    }
   ],
   "source": [
    "for pitch in [\"F##\", \"Bbb\", \"C#\", \"Db\"]:\n",
    "    print(f\"Spelled.PitchClass('{pitch}'):\\t\\t{Spelled.PitchClass(pitch)}\")\n",
    "    p = Enharmonic.PitchClass(pitch)\n",
    "    print(f\"Enharmonic.PitchClass('{pitch}'):\\t{p}\\t[{p.name(sharp_flat='sharp')}/{p.name(sharp_flat='flat')}]\")\n",
    "    print(f\"{Spelled.PitchClass(pitch)} --> {Spelled.PitchClass(pitch).convert_to(Enharmonic.PitchClass)}\")\n",
    "    # print(f\"{Enharmonic.PitchClass(pitch)} --> {Enharmonic.PitchClass(pitch).convert_to(Spelled.PitchClass)}\")  # NotImplementedError\n",
    "    print()"
   ]
  },
  {
   "cell_type": "markdown",
   "metadata": {},
   "source": [
    "### Pitch versus Pitch Classe"
   ]
  },
  {
   "cell_type": "markdown",
   "metadata": {},
   "source": [
    "In fact, the example above is using pitch _classes_, that is the octave is ignored. If you want actual pitches, you will need to specify the octave."
   ]
  },
  {
   "cell_type": "code",
   "execution_count": 3,
   "metadata": {},
   "outputs": [
    {
     "name": "stdout",
     "output_type": "stream",
     "text": [
      "Dbb1\tC1\t(MIDI: 24 <--> C1)\n",
      "C2\tC2\t(MIDI: 36 <--> C2)\n",
      "B#3\tC4\t(MIDI: 60 <--> C4)\n",
      "C4\tC4\t(MIDI: 60 <--> C4)\n"
     ]
    }
   ],
   "source": [
    "for pitch in [\"Dbb1\", \"C2\", \"B#3\", \"C4\"]:\n",
    "    midi = int(Enharmonic.Pitch(pitch))\n",
    "    print(f\"{Spelled.Pitch(pitch)}\\t{Enharmonic.Pitch(pitch)}\\t(MIDI: {midi} <--> {Enharmonic.Pitch(midi)})\")"
   ]
  },
  {
   "cell_type": "markdown",
   "metadata": {},
   "source": [
    "As you can see, _EnharmonicPitch_ can also be converted back and forth from/to the corresponding MIDI integer representation (when providing an integer you have to assist by specifying how it should be interpreted). And if you have a pitch (or interval) object, you can easily convert it to the corresponding pitch (or interval) _class_:"
   ]
  },
  {
   "cell_type": "code",
   "execution_count": 4,
   "metadata": {},
   "outputs": [
    {
     "name": "stdout",
     "output_type": "stream",
     "text": [
      "C4 --> C\n",
      "+17 --> +5\n"
     ]
    }
   ],
   "source": [
    "p = Enharmonic.Pitch(\"C4\")\n",
    "i = Enharmonic.Interval(17)\n",
    "pc = p.to_class()\n",
    "ic = i.to_class()\n",
    "print(f\"{p} --> {pc}\")\n",
    "print(f\"{i} --> {ic}\")"
   ]
  },
  {
   "cell_type": "markdown",
   "metadata": {},
   "source": [
    "### Frequencies"
   ]
  },
  {
   "cell_type": "markdown",
   "metadata": {},
   "source": [
    "If you are interested in the frequency corresponding to a specific pitch...well, you should think twice what that means, but here are some ways to deal with frequencies.\n",
    "\n",
    "We use the _LogFreqPitch_ type to represent frequencies. As the name suggests, it corresponds to the logarithm of the frequency (in Hertz) and is internally represented as a float:"
   ]
  },
  {
   "cell_type": "code",
   "execution_count": 5,
   "metadata": {},
   "outputs": [
    {
     "name": "stdout",
     "output_type": "stream",
     "text": [
      "440.1Hz\n",
      "440.1Hz\n",
      "6.0870019738170456 == 6.0870019738170456\n"
     ]
    }
   ],
   "source": [
    "print(LogFreq.Pitch(log(440.1)))\n",
    "print(LogFreq.Pitch(440.1, is_freq=True))\n",
    "print(f\"{float(LogFreq.Pitch(log(440.1)))} == {log(440.1)}\")"
   ]
  },
  {
   "cell_type": "markdown",
   "metadata": {},
   "source": [
    "For other pitch types, it is not obvious how they relate to frequency, because this generally depends on the specific tuning being used. To still be as user-friendly as possible, we assume that people using _EnharmonicPitch_ will generally use twelve-tone equal temperament, so we provide a default conversion to frequency:"
   ]
  },
  {
   "cell_type": "code",
   "execution_count": 6,
   "metadata": {},
   "outputs": [
    {
     "name": "stdout",
     "output_type": "stream",
     "text": [
      "440.0\n",
      "440.Hz\n"
     ]
    }
   ],
   "source": [
    "print(Enharmonic.Pitch(\"A4\").freq())\n",
    "print(Enharmonic.Pitch(\"A4\").convert_to(LogFreq.Pitch))"
   ]
  },
  {
   "cell_type": "markdown",
   "metadata": {},
   "source": [
    "In contrast, _SpelledPitch_ pitch contains additional information that may be used to adjust the frequency in an appropriate way, depending on the tuning and/or the musical context. So we do not provide a default conversion and the following would result in an _NotImplementedError_:"
   ]
  },
  {
   "cell_type": "code",
   "execution_count": 7,
   "metadata": {},
   "outputs": [],
   "source": [
    "# Spelled.Pitch(\"A4\").convert_to(LogFreq.Pitch)  # NotImplementedError"
   ]
  },
  {
   "cell_type": "markdown",
   "metadata": {},
   "source": [
    "You can still perform the conversion explicitly, in which case we trust you that you know what you are doing:"
   ]
  },
  {
   "cell_type": "code",
   "execution_count": 8,
   "metadata": {},
   "outputs": [
    {
     "data": {
      "text/plain": [
       "440.Hz"
      ]
     },
     "execution_count": 8,
     "metadata": {},
     "output_type": "execute_result"
    }
   ],
   "source": [
    "Spelled.Pitch(\"A4\").convert_to(Enharmonic.Pitch).convert_to(LogFreq.Pitch)"
   ]
  },
  {
   "cell_type": "markdown",
   "metadata": {},
   "source": [
    "## Intervals and Arithmetics"
   ]
  },
  {
   "cell_type": "markdown",
   "metadata": {},
   "source": [
    "ToDo..."
   ]
  },
  {
   "cell_type": "code",
   "execution_count": 9,
   "metadata": {},
   "outputs": [
    {
     "name": "stdout",
     "output_type": "stream",
     "text": [
      "Gb5 - C#4 = +dd5:1\n",
      "Gb5 + +dd5:1 = Dbbb6\n",
      "Gb5 - +dd5:1 = C#4\n",
      "+dd5:1 - +dd5:1 = +P1:0\n",
      "+dd5:1 + +dd5:1 = +ddd2:2\n"
     ]
    }
   ],
   "source": [
    "p1 = Spelled.Pitch(\"C#4\")\n",
    "p2 = Spelled.Pitch(\"Gb5\")\n",
    "i = p2 - p1\n",
    "print(f\"{p2} - {p1} = {i}\")\n",
    "print(f\"{p2} + {i} = {p2 + i}\")\n",
    "print(f\"{p2} - {i} = {p2 - i}\")\n",
    "print(f\"{i} - {i} = {i - i}\")\n",
    "print(f\"{i} + {i} = {i + i}\")\n",
    "# p1 + p2                                               # TypeError (cannot add pitches)\n",
    "# Spelled.PitchClass(\"G\") - Spelled.Pitch(\"G4\")         # TypeError (cannot mix pitches with pitch classes)\n",
    "# Spelled.PitchClass(\"G\") - Enharmonic.PitchClass(\"C\")  # TypeError (cannot mix different pitch types)"
   ]
  },
  {
   "cell_type": "markdown",
   "metadata": {},
   "source": [
    "## Converters"
   ]
  },
  {
   "cell_type": "markdown",
   "metadata": {},
   "source": [
    "When implementing new pitch types, you can register converters to allow (implicit) conversion to and from existing pitch types."
   ]
  },
  {
   "cell_type": "code",
   "execution_count": 10,
   "metadata": {},
   "outputs": [
    {
     "name": "stdout",
     "output_type": "stream",
     "text": [
      "TypeBPitch(foo)\n",
      "TypeCPitch(bar)\n"
     ]
    }
   ],
   "source": [
    "@AbstractBase.create_subtypes()\n",
    "class TypeA(AbstractBase): pass\n",
    "\n",
    "@AbstractBase.create_subtypes()\n",
    "class TypeB(AbstractBase): pass\n",
    "\n",
    "@AbstractBase.create_subtypes()\n",
    "class TypeC(AbstractBase): pass\n",
    "\n",
    "Converters.register_converter(from_type=TypeA, \n",
    "                         to_type=TypeB, \n",
    "                         conv_func=lambda pitch_a: TypeB(pitch_a._value, pitch_a.is_pitch, pitch_a.is_class))\n",
    "Converters.register_converter(from_type=TypeB, \n",
    "                         to_type=TypeC, \n",
    "                         conv_func=lambda pitch_b: TypeC(pitch_b._value, pitch_b.is_pitch, pitch_b.is_class))\n",
    "\n",
    "print(TypeA.Pitch(\"foo\").convert_to(TypeB.Pitch))\n",
    "print(TypeB.Pitch(\"bar\").convert_to(TypeC.Pitch))"
   ]
  },
  {
   "cell_type": "markdown",
   "metadata": {},
   "source": [
    "### Implicit Converters"
   ]
  },
  {
   "cell_type": "code",
   "execution_count": 11,
   "metadata": {},
   "outputs": [],
   "source": [
    "# print(TypeA(\"baz\", True, False).convert_to(TypeC))  # NotImplementedError"
   ]
  },
  {
   "cell_type": "markdown",
   "metadata": {},
   "source": [
    "We did not provide a converter from TypeA to TypeC so attempting a conversion results in an error being raised. We can however request _implicit_ converters to be automatically added by chaining two or more existing converters. This is done for the reverse direction TypeC --> TypeB --> TypeA as follows:"
   ]
  },
  {
   "cell_type": "code",
   "execution_count": 12,
   "metadata": {},
   "outputs": [
    {
     "name": "stdout",
     "output_type": "stream",
     "text": [
      "TypeBPitch(foo)\n",
      "TypeAPitch(bar)\n",
      "TypeAPitch(baz)\n"
     ]
    }
   ],
   "source": [
    "Converters.register_converter(from_type=TypeC,\n",
    "                         to_type=TypeB, \n",
    "                         conv_func=lambda pitch_c: TypeB(pitch_c._value, pitch_c.is_pitch, pitch_c.is_class))\n",
    "Converters.register_converter(from_type=TypeB,\n",
    "                         to_type=TypeA, \n",
    "                         conv_func=lambda pitch_b: TypeA(pitch_b._value, pitch_b.is_pitch, pitch_b.is_class),\n",
    "                         create_implicit_converters=True)  # Here, the implicit converter is created!\n",
    "print(TypeC.Pitch(\"foo\").convert_to(TypeB.Pitch))\n",
    "print(TypeB.Pitch(\"bar\").convert_to(TypeA.Pitch))\n",
    "print(TypeC.Pitch(\"baz\").convert_to(TypeA.Pitch))  # no error!"
   ]
  },
  {
   "cell_type": "markdown",
   "metadata": {},
   "source": [
    "You can look at all registered converters and see how the implicit converter from above is made up from two separate conversion steps arranged into a pipeline. In fact, there are only the two predefined converters we already know (_Spelled_ --> _Enharmonic_, _Enharmonic_ --> _LogFreq_) and those we just defined (including the implicitly defined one):"
   ]
  },
  {
   "cell_type": "code",
   "execution_count": 13,
   "metadata": {},
   "outputs": [
    {
     "name": "stdout",
     "output_type": "stream",
     "text": [
      "from: <class 'pitchtypes.datatypes.Spelled'>\n",
      "    to: <class 'pitchtypes.datatypes.Enharmonic'>:\t conversion pipeline: [<function <lambda> at 0x106cbf3a0>]\n",
      "from: <class 'pitchtypes.datatypes.Enharmonic'>\n",
      "    to: <class 'pitchtypes.datatypes.LogFreq'>:\t conversion pipeline: [<function <lambda> at 0x10810cdc0>]\n",
      "from: <class '__main__.TypeA'>\n",
      "    to: <class '__main__.TypeB'>:\t conversion pipeline: [<function <lambda> at 0x106cbf310>]\n",
      "from: <class '__main__.TypeB'>\n",
      "    to: <class '__main__.TypeC'>:\t conversion pipeline: [<function <lambda> at 0x106cbf670>]\n",
      "    to: <class '__main__.TypeA'>:\t conversion pipeline: [<function <lambda> at 0x10bb29d30>]\n",
      "from: <class '__main__.TypeC'>\n",
      "    to: <class '__main__.TypeB'>:\t conversion pipeline: [<function <lambda> at 0x10bb294c0>]\n",
      "    to: <class '__main__.TypeA'>:\t conversion pipeline: [<function <lambda> at 0x10bb294c0>, <function <lambda> at 0x10bb29d30>]\n"
     ]
    }
   ],
   "source": [
    "for from_type, d in Converters._converters.items():\n",
    "    print(f\"from: {from_type}\")\n",
    "    for to_type, f in d.items():\n",
    "        print(f\"    to: {to_type}:\\t conversion pipeline: {f}\")"
   ]
  }
 ],
 "metadata": {
  "kernelspec": {
   "display_name": "Python 3",
   "language": "python",
   "name": "python3"
  },
  "language_info": {
   "codemirror_mode": {
    "name": "ipython",
    "version": 3
   },
   "file_extension": ".py",
   "mimetype": "text/x-python",
   "name": "python",
   "nbconvert_exporter": "python",
   "pygments_lexer": "ipython3",
   "version": "3.8.2"
  }
 },
 "nbformat": 4,
 "nbformat_minor": 4
}
